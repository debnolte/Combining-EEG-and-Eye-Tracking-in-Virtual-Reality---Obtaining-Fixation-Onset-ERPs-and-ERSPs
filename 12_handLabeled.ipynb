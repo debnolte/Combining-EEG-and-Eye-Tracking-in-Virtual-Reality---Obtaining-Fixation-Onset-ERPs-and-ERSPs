{
 "cells": [
  {
   "cell_type": "markdown",
   "id": "597189c9-6490-4977-b930-68495ee6de74",
   "metadata": {},
   "source": [
    "# Analyse the difference between the hand-labeled data and the classification algorithm"
   ]
  },
  {
   "cell_type": "markdown",
   "id": "b94d02cb-b855-4460-a1de-179a4293b62a",
   "metadata": {},
   "source": [
    "Many parts of this code have been written by Pelin Kömürlüoğlu."
   ]
  },
  {
   "cell_type": "markdown",
   "id": "585cb10706308534",
   "metadata": {},
   "source": [
    "Import the packages"
   ]
  },
  {
   "cell_type": "code",
   "execution_count": null,
   "id": "initial_id",
   "metadata": {
    "ExecuteTime": {
     "end_time": "2024-02-08T14:39:01.957391Z",
     "start_time": "2024-02-08T14:39:01.952436Z"
    },
    "tags": []
   },
   "outputs": [],
   "source": [
    "import numpy as np\n",
    "import random\n",
    "import pandas as pd\n",
    "import matplotlib.pyplot as plt\n",
    "from sklearn import metrics \n",
    "import seaborn as sns\n",
    "\n",
    "PATH_FOREYE = \"./data/processed/MAD_sacc\" "
   ]
  },
  {
   "cell_type": "markdown",
   "id": "2595847c-21aa-4f69-9609-8dbd799fd451",
   "metadata": {
    "tags": []
   },
   "source": [
    "# Compute durations and reject outliers:"
   ]
  },
  {
   "cell_type": "code",
   "execution_count": null,
   "id": "c8831591c9f79531",
   "metadata": {
    "ExecuteTime": {
     "start_time": "2024-02-08T15:30:40.282607Z"
    },
    "collapsed": false,
    "jupyter": {
     "outputs_hidden": false
    }
   },
   "outputs": [],
   "source": [
    "# load the hand-labeled data\n",
    "for_eye = pd.read_csv('extendedCombinedTable.csv')\n",
    "for_eye = for_eye.drop(['Unnamed: 0', 'Var1'], axis=1)\n",
    "display(for_eye)\n",
    "\n",
    "''' \n",
    "The data contains the results of the hand-labeled data:\n",
    "- time, valid, xcood, coord, zcoord: used to labeld the data\n",
    "- validity_handLabel: 1 if valid, 0 if not\n",
    "- handLabel: either 2 for gaze or 1 for saccade\n",
    "- validity_algoLabel: 1 if valid, 0 if not \n",
    "- handLabel2: combine validity_handLabel & handLabel\n",
    "- handFixationOnset: 2.0 for each gaze onset\n",
    "'''"
   ]
  },
  {
   "cell_type": "code",
   "execution_count": null,
   "id": "db2a458dbf139d4b",
   "metadata": {
    "ExecuteTime": {
     "end_time": "2024-02-08T16:10:05.717331Z",
     "start_time": "2024-02-08T16:09:58.418113Z"
    },
    "collapsed": false,
    "jupyter": {
     "outputs_hidden": false
    }
   },
   "outputs": [],
   "source": [
    "''' \n",
    "Code adjusted from Pelin Kömürlüoğlu.\n",
    "\n",
    "Define gaze and saccade onsets and offsets.\n",
    "This is done to calculate the durations more easily.\n",
    "'''\n",
    "\n",
    "# first: take out invalid\n",
    "for_eye_rej = for_eye[for_eye['validity_handLabel'] == 1].reset_index()\n",
    "# and save the invalid separately\n",
    "for_eye_inv = for_eye[for_eye['validity_handLabel'] == 0]\n",
    "\n",
    "\n",
    "\n",
    "# second: Find the beginning and the end of the saccades and gazes\n",
    "# Loop twice, one for the start one for the end. To store the indices to extract the time points in Step 2.2\n",
    "\n",
    "# define saccade start (change from 2 to 1)\n",
    "saccade_start = []\n",
    "for i in range(len(for_eye_rej['handLabel2'])): \n",
    "    # Check if row 0 is saccade or not (since it cannot compare to a previous row)\n",
    "    if i == 0 and for_eye_rej.loc[i, 'handLabel2'] == 1:\n",
    "        #start_saccade_idx = 0\n",
    "        saccade_start.append(i)\n",
    "        continue # continue with the next iteration\n",
    "    if for_eye_rej.loc[i, 'handLabel2'] == 1 and for_eye_rej.loc[i-1, 'handLabel2'] != 1:\n",
    "        #start_saccade_idx = i\n",
    "        saccade_start.append(i)\n",
    " \n",
    " \n",
    "# define saccade end (change from 1 to 2)\n",
    "saccade_end = []\n",
    "for j in range(len(for_eye_rej['handLabel2'])):      \n",
    "    # Check if the last row is saccade or not (since it cannot compare to a next row)\n",
    "    if j == len(for_eye_rej['handLabel2']) and for_eye_rej.loc[j, 'handLabel2'] == 1:\n",
    "        #end_saccade_idx = 0\n",
    "        saccade_end.append(j)\n",
    "\n",
    "        #continue # nowhere to continue, lol\n",
    "    if for_eye_rej.loc[j, 'handLabel2'] == 1 and for_eye_rej.loc[j+1, 'handLabel2'] != 1:\n",
    "        saccade_end.append(j)\n",
    "\n",
    "# define gaze onset (change from 1 to 2)\n",
    "fixation_start = []\n",
    "for i in range(len(for_eye_rej['handLabel2'])): \n",
    "    # Check if row 0 is saccade or not (since it cannot compare to a previous row)\n",
    "    if i == 0 and for_eye_rej.loc[i, 'handLabel2'] == 2:\n",
    "        #start_saccade_idx = 0\n",
    "        fixation_start.append(i)\n",
    "        continue # continue with the next iteration\n",
    "    if for_eye_rej.loc[i, 'handLabel2'] == 2 and for_eye_rej.loc[i-1, 'handLabel2'] != 2:\n",
    "        #start_saccade_idx = i\n",
    "        fixation_start.append(i)\n",
    "\n",
    "# define gaze end (change from 2 to 1)\n",
    "fixation_end = []\n",
    "for j in range(len(for_eye_rej['handLabel2'])):      \n",
    "    # Check if the last row is fixation or not (since it cannot compare to a next row)\n",
    "    if j == len(for_eye_rej['handLabel2'])-1 and for_eye_rej.loc[j, 'handLabel2'] == 2:\n",
    "        fixation_end.append(j)\n",
    "        break\n",
    "        #continue # nowhere to continue, lol\n",
    "    if for_eye_rej.loc[j, 'handLabel2'] == 2 and for_eye_rej.loc[j+1, 'handLabel2'] != 2:\n",
    "        fixation_end.append(j)\n",
    "\n",
    "\n"
   ]
  },
  {
   "cell_type": "markdown",
   "id": "3868ce5dca8bc6c6",
   "metadata": {},
   "source": [
    "Calculate the durations of fixations and saccades"
   ]
  },
  {
   "cell_type": "code",
   "execution_count": null,
   "id": "9656f9e7b3a7d1ca",
   "metadata": {
    "ExecuteTime": {
     "end_time": "2024-02-08T16:18:43.844016Z",
     "start_time": "2024-02-08T16:18:43.765273Z"
    },
    "collapsed": false,
    "jupyter": {
     "outputs_hidden": false
    }
   },
   "outputs": [],
   "source": [
    "# using the defined event onsets and offsets, we calculate the duration of each event (end - start)\n",
    "\n",
    "# this is done separately for saccades\n",
    "duration_saccade = []\n",
    "for i in range(len(saccade_end)):\n",
    "    duration_saccade.append(for_eye_rej['time'][saccade_end[i]]-for_eye_rej['time'][saccade_start[i]])\n",
    "\n",
    "# and gazes\n",
    "duration_fixation = []\n",
    "for i in range(len(fixation_end)):\n",
    "    duration_fixation.append(for_eye_rej['time'][fixation_end[i]]-for_eye_rej['time'][fixation_start[i]])\n",
    "    \n",
    "\n",
    "# then we combine them to a datafram - first for saccades\n",
    "int_sacc = list(zip(saccade_start,saccade_end,duration_saccade))\n",
    "int_sacc = pd.DataFrame(int_sacc,columns=[\"saccade_start\",\"saccade_end\",\"duration_saccade\",],)\n",
    "# the for gazes\n",
    "int_gaze = list(zip(fixation_start,fixation_end,duration_fixation))\n",
    "int_gaze = pd.DataFrame(int_gaze,columns=[\"fixation_start\",\"fixation_end\",\"duration_fixation\",],)"
   ]
  },
  {
   "cell_type": "code",
   "execution_count": null,
   "id": "1eddffc5-3088-490e-8b00-e760505476e6",
   "metadata": {},
   "outputs": [],
   "source": [
    "# The two dfs (gaze + saccade durations) are added to have one common df\n",
    "dur = [] # save duration\n",
    "onset = [np.nan] * len(for_eye_rej) # save events\n",
    "# to loop through the gaze and saccade dfs\n",
    "gz_cnt = 0\n",
    "sc_cnt = 0\n",
    "# loop through the data:\n",
    "# check if the current index corresponds to a gaze or saccade onset\n",
    "for i in for_eye_rej.index.tolist():\n",
    "    # gaze onset:\n",
    "    if gz_cnt < len(int_gaze) and i == int_gaze[\"fixation_start\"][gz_cnt]:\n",
    "        # save the timepoint in onset\n",
    "        onset[i] = 2.0\n",
    "    # saccade onset\n",
    "    if sc_cnt < len(int_sacc) and i == int_sacc[\"saccade_start\"][sc_cnt]:\n",
    "        onset[i] = 1.0\n",
    "    # gaze offset\n",
    "    if gz_cnt < len(int_gaze) and i == int_gaze[\"fixation_end\"][gz_cnt]:\n",
    "        # add the duration to each element in the gaze\n",
    "        dur = dur + [int_gaze[\"duration_fixation\"][gz_cnt]]*(1 + int_gaze[\"fixation_end\"][gz_cnt]-int_gaze[\"fixation_start\"][gz_cnt])\n",
    "        # count up the current position in the df\n",
    "        gz_cnt = gz_cnt + 1\n",
    "    # saccade offset\n",
    "    elif sc_cnt < len(int_sacc) and i == int_sacc[\"saccade_end\"][sc_cnt]:\n",
    "        # add the duration for each element in the saccade \n",
    "        dur = dur + [int_sacc[\"duration_saccade\"][sc_cnt]]*(1 + int_sacc[\"saccade_end\"][sc_cnt]-int_sacc[\"saccade_start\"][sc_cnt])\n",
    "        # count up position index\n",
    "        sc_cnt = sc_cnt + 1\n",
    "# add the results to the common df\n",
    "for_eye_rej['durations'] = dur\n",
    "for_eye_rej['onsets'] = onset\n"
   ]
  },
  {
   "cell_type": "code",
   "execution_count": null,
   "id": "bb9b3e77-6637-4e69-8551-1f8e7a5f2fbb",
   "metadata": {},
   "outputs": [],
   "source": [
    "''' \n",
    "Outlier calculation - This code is adapted from '7v_ET_classification_algorithm.ipynb'\n",
    "\n",
    "Long events are rejected\n",
    "'''\n",
    "\n",
    "# Now calculate outliers as done previously\n",
    "gaze = for_eye_rej[for_eye_rej[\"onsets\"] == 2.0]\n",
    "sacc = for_eye_rej[for_eye_rej[\"onsets\"] == 1.0]\n",
    "\n",
    "# for shorter code, get the durations as lists\n",
    "g_len = gaze[\"durations\"].tolist()\n",
    "s_len = sacc[\"durations\"].tolist()\n",
    "\n",
    "# median of the absolute deviation (* 1.4826 when assuming normal distribution):\n",
    "gaze_mad = np.nanmedian(abs(g_len - np.nanmedian(g_len))) * 1.4826\n",
    "sacc_mad = np.nanmedian(abs(s_len - np.nanmedian(s_len))) * 1.4826\n",
    "\n",
    "# calculate the median to reject data\n",
    "g_len_med = np.nanmedian(g_len)\n",
    "s_len_med = np.nanmedian(s_len)\n",
    "\n",
    "# now add a column to the df that is nan if it is an outlier and the duration if it is not\n",
    "# separate between gaze and saccade (but now take ach sample)\n",
    "gaze = for_eye_rej[for_eye_rej[\"handLabel2\"] == 2]\n",
    "sacc = for_eye_rej[for_eye_rej[\"handLabel2\"] == 1]\n",
    "\n",
    "# Deviations:\n",
    "# then to calculate the deviations using the entire df for easy lookup later\n",
    "gaze_mad_z = abs(gaze[\"durations\"].tolist() - g_len_med) / gaze_mad\n",
    "sacc_mad_z = abs(sacc[\"durations\"].tolist() - s_len_med) / sacc_mad\n",
    "\n",
    "# get the outliers for gaze and saccade seperately\n",
    "gaze_mad_z[gaze_mad_z > 3.5] = np.nan\n",
    "sacc_mad_z[sacc_mad_z > 3.5] = np.nan\n",
    "\n",
    "# save the data:\n",
    "for_eye_rej = pd.concat([gaze, sacc])\n",
    "# save all outliers for gaze + saccades + nan for invalid data \n",
    "for_eye_rej[\"long_events\"] = gaze_mad_z.tolist() + sacc_mad_z.tolist()\n",
    "# sort the data\n",
    "for_eye_rej = for_eye_rej.sort_index()"
   ]
  },
  {
   "cell_type": "code",
   "execution_count": null,
   "id": "1a378fee-c617-4dc5-a991-170e98b59d84",
   "metadata": {},
   "outputs": [],
   "source": [
    "# now combine the valid and invalid data so you only have one df left\n",
    "for_eye_rej.set_index('index', inplace=True)\n",
    "for_eye_fin = pd.concat([for_eye_rej, for_eye_inv], sort=False).sort_index()"
   ]
  },
  {
   "cell_type": "markdown",
   "id": "b0eaa118-d59b-4367-bb86-2a321a558c33",
   "metadata": {},
   "source": [
    "# Compare the hand-labeled data and the algorithm classification"
   ]
  },
  {
   "cell_type": "code",
   "execution_count": null,
   "id": "6cf96544-9353-4cc9-98c8-5b7283917f1f",
   "metadata": {},
   "outputs": [],
   "source": [
    "'''\n",
    "For easier comparison, we create a df for the algorithm and hand-labeled data,\n",
    "that consist of:\n",
    "- 0 == invalid samples\n",
    "- 1 == saccade samples\n",
    "- 2 == gaze samples\n",
    "- 3 == outliers\n",
    "'''\n",
    "\n",
    "# Algorithm:\n",
    "# load the data\n",
    "recordings = pd.read_csv(\"./recordings_village.csv\", index_col=0)\n",
    "ids = recordings.index.tolist()\n",
    "idd = ids[:1]\n",
    "for_eye = pd.read_csv(f\"{PATH_FOREYE}/correTS_mad_wobig_{idd[0]}.csv\", index_col=0)\n",
    "# invalid \n",
    "invalid = for_eye[for_eye['valid'] == 0.0]\n",
    "# take them out \n",
    "for_eye = for_eye[for_eye['valid'] == 1.0]\n",
    "# outliers\n",
    "outliers = for_eye[for_eye[\"long_events\"].isnull()]\n",
    "# take them out\n",
    "for_eye = for_eye[~for_eye[\"long_events\"].isnull()]\n",
    "# gaze and saccade dfs\n",
    "gaze = for_eye[~for_eye[\"isFix\"].isnull()]\n",
    "sacc = for_eye[for_eye[\"isFix\"].isnull()]\n",
    "# combine the data \n",
    "for_eye = pd.concat([invalid, outliers, gaze, sacc])\n",
    "for_eye[\"all_events\"] = [0]*len(invalid) + [3]*len(outliers) + [2]*len(gaze) + [1]*len(sacc)\n",
    "# sort the data\n",
    "for_eye = for_eye.sort_index()\n",
    "\n",
    "\n",
    "# Hand Labels:\n",
    "# invalid\n",
    "invalid = for_eye_fin[for_eye_fin['validity_handLabel'] == 0]\n",
    "# take them out\n",
    "for_eye_fin = for_eye_fin[for_eye_fin['validity_handLabel'] == 1]\n",
    "# outliers\n",
    "outliers = for_eye_fin[for_eye_fin[\"long_events\"].isnull()]\n",
    "# take them out\n",
    "for_eye_fin = for_eye_fin[~for_eye_fin[\"long_events\"].isnull()]\n",
    "# gaze and saccade dfs\n",
    "gaze = for_eye_fin[for_eye_fin[\"handLabel2\"] == 2]\n",
    "sacc = for_eye_fin[for_eye_fin[\"handLabel2\"] == 1]\n",
    "# combine the data\n",
    "for_eye_rej = pd.concat([invalid, outliers, gaze, sacc])\n",
    "for_eye_rej[\"all_events_hand\"] = [0]*len(invalid) + [3]*len(outliers) + [2]*len(gaze) + [1]*len(sacc)\n",
    "# sort the data\n",
    "for_eye_rej = for_eye_rej.sort_index()\n",
    "\n",
    "\n",
    "# have both in the same df: so add the algorithm classification to the hand-labeled df\n",
    "for_eye_rej['all_events_algo'] = for_eye[\"all_events\"].tolist()"
   ]
  },
  {
   "cell_type": "markdown",
   "id": "bf12759c-31d7-427b-84e8-de2cc63fb886",
   "metadata": {
    "tags": []
   },
   "source": [
    "## Sample-by-sample comparison (Confusion Martix)"
   ]
  },
  {
   "cell_type": "code",
   "execution_count": null,
   "id": "822873fc-5214-4ec9-ad0c-7825b46bfa96",
   "metadata": {},
   "outputs": [],
   "source": [
    "# now, let's compute the confusion matrix\n",
    "confusion_matrix = metrics.confusion_matrix(for_eye_rej[\"all_events_hand\"].to_numpy(), for_eye_rej['all_events_algo'].to_numpy()) \n",
    "# use heatmap to plot the results\n",
    "sns.heatmap(confusion_matrix, annot=True, fmt='g');\n",
    "# important, the order corresponds to the number (so 1 == saccade and not outlier)"
   ]
  },
  {
   "cell_type": "markdown",
   "id": "0413e985-12f9-4e8d-950f-eac97c2ee1cf",
   "metadata": {},
   "source": [
    "## Number of gazes & saccades"
   ]
  },
  {
   "cell_type": "code",
   "execution_count": null,
   "id": "12c39209-20ff-4e02-a0fc-f9ef1d6fa565",
   "metadata": {},
   "outputs": [],
   "source": [
    "# Hand label:\n",
    "# count the number of gazes: get rid of validity and outliers\n",
    "valid = for_eye_rej[for_eye_rej['validity_handLabel'] == 1]\n",
    "valid = valid[~valid[\"long_events\"].isnull()]\n",
    "gazes = valid[valid[\"onsets\"] == 2.0]\n",
    "sacc = valid[valid[\"onsets\"] == 1.0]\n",
    "print(\"Hand Labeling:\")\n",
    "print(f\"nr gazes: {len(gazes)}\")\n",
    "print(f\"nr saccades: {len(sacc)}\")\n",
    "print()\n",
    "\n",
    "# Algorithm:\n",
    "recordings = pd.read_csv(\"./recordings_village.csv\", index_col=0)\n",
    "ids = recordings.index.tolist()\n",
    "idd = ids[:1]\n",
    "valid = pd.read_csv(f\"{PATH_FOREYE}/correTS_mad_wobig_{idd[0]}.csv\", index_col=0)\n",
    "valid = valid[valid['valid'] == 1.0]\n",
    "valid = valid[~valid[\"long_events\"].isnull()]\n",
    "gazes = valid[valid['events'] == 2.0]\n",
    "sacc = valid[valid['events'] == 1.0]\n",
    "print(\"Algorithm Classification:\")\n",
    "print(f\"nr gazes: {len(gazes)}\")\n",
    "print(f\"nr saccades: {len(sacc)}\")"
   ]
  },
  {
   "cell_type": "markdown",
   "id": "15a5750d-a1ef-486a-a142-4f1c299b456e",
   "metadata": {},
   "source": [
    "## Compare jitter in onsets"
   ]
  },
  {
   "cell_type": "code",
   "execution_count": null,
   "id": "7098e1f9-1fd3-47b9-854c-07468283d00d",
   "metadata": {},
   "outputs": [],
   "source": [
    "# load the data and define gazes\n",
    "valid = for_eye_rej[for_eye_rej['validity_handLabel'] == 1] # remove invalid data\n",
    "valid = valid[~valid[\"long_events\"].isnull()] # remove outliers\n",
    "gaze_hand = valid[valid[\"onsets\"] == 2.0]\n",
    "gaze_hand = gaze_hand.index.tolist() # for this, we only need the indicies\n",
    "\n",
    "# Algorithm:\n",
    "# load the data\n",
    "recordings = pd.read_csv(\"./recordings_village.csv\", index_col=0)\n",
    "ids = recordings.index.tolist()\n",
    "idd = ids[:1]\n",
    "valid = pd.read_csv(f\"{PATH_FOREYE}/correTS_mad_wobig_{idd[0]}.csv\", index_col=0)\n",
    "valid = valid[valid['valid'] == 1.0] # remove invalid data\n",
    "valid = valid[~valid[\"long_events\"].isnull()] # remove outliers\n",
    "gaze_algo = valid[valid['events'] == 2.0]\n",
    "gaze_algo = gaze_algo.index.tolist() # for this, we only need the indicies\n",
    "\n",
    "# what values the distances can take\n",
    "counters = list(np.linspace(-10, 10, num=21,dtype=int))\n",
    "# define array to save the numbers - used for the plot\n",
    "counts = {-10:0, -9:0, -8:0, -7:0, -6:0, -5:0, -4:0, -3:0, -2:0, -1:0, 0:0,\n",
    "          1:0, 2:0, 3:0, 4:0, 5:0, 6:0, 7:0, 8:0, 9:0, 10:0,100:0,}\n",
    "long_counts = [] # here we simply add the value for median and iqr calculation\n",
    "# now loop through the algorithm gazes and find the closest match\n",
    "for g, gz in enumerate(gaze_algo[:]): # count, item\n",
    "    # compute the distance in samples for each gaze onset in the hand-labeled data\n",
    "    dist = [gz - i for i in gaze_hand]\n",
    "    # we get the min distance. For this we use the absolute value\n",
    "    max_el = min(dist, key=abs)\n",
    "    # to check whether the distance between - and + are the same, we also check the second closest\n",
    "    # therefore, we remove the closest element\n",
    "    dist.remove(max_el)\n",
    "    # and caluclate the new minimum\n",
    "    max_el2 = min(dist, key=abs)\n",
    "    # if the distance is close enough to be counted\n",
    "    if max_el in counters:\n",
    "        # first, if the abs two counters are identical (so - and + have the same distance)\n",
    "        if abs(max_el2) == abs(max_el):\n",
    "            # we add a 0.5 to both elements\n",
    "            counts[max_el] = counts[max_el] + 0.5\n",
    "            counts[max_el2] = counts[max_el2] + 0.5\n",
    "            # and we add both counters to the list we use to compute the median\n",
    "            long_counts = long_counts + [max_el,max_el2] # we add both\n",
    "        # if the two counters are not identical \n",
    "        else:\n",
    "            # we add a 1 to the minimum distance\n",
    "            counts[max_el] = counts[max_el] + 1\n",
    "            # and then we add the element twice to the list, to account for the possibility of having two closest\n",
    "            long_counts = long_counts + [max_el,max_el] \n",
    "    # if the distance is too big, we count the number in the df\n",
    "    else:\n",
    "        counts[100] = counts[100] + 1\n",
    "# we create a df\n",
    "counts = pd.DataFrame(counts, index = ['nr shifts']).transpose()\n",
    "# for plotting, we remove the counter with the distances too far away.\n",
    "counts_assigned = counts.drop([100])\n"
   ]
  },
  {
   "cell_type": "code",
   "execution_count": null,
   "id": "972c6257-11b0-4fb4-943a-f50f81153544",
   "metadata": {},
   "outputs": [],
   "source": [
    "# plot the results\n",
    "ax = counts_assigned.plot.bar(rot=0,width=0.7)"
   ]
  },
  {
   "cell_type": "code",
   "execution_count": null,
   "id": "ae4bbc1b-a26b-4452-9427-f3ccad4beae7",
   "metadata": {},
   "outputs": [],
   "source": [
    "# compute the median and IQR\n",
    "print(f'median difference : {np.median(long_counts)}')\n",
    "q75, q25 = np.nanpercentile(long_counts, [75, 25])\n",
    "iqr_dist = q75 - q25\n",
    "print(f\"IQR gaze distance: {iqr_dist} ({q25}:{q75})\")"
   ]
  },
  {
   "cell_type": "markdown",
   "id": "9d252b55-0e77-4f18-b8b2-0e48e89c8184",
   "metadata": {},
   "source": [
    "## Make a combined plot: confusion matrix + bar plot"
   ]
  },
  {
   "cell_type": "code",
   "execution_count": null,
   "id": "ed703fec-504d-4581-b7aa-e04a265bb173",
   "metadata": {},
   "outputs": [],
   "source": [
    "# important, this code relies on all the previous cells, so they have to be run first\n",
    "\n",
    "gaze_color_1 = \"#066da8\"\n",
    "\n",
    "# set plotting parameters for:\n",
    "labelsize = 40 # text\n",
    "legendsize = 40 # ledgend\n",
    "ticksize = 30 # ticks\n",
    "numbersize = 60 # A, B etc.\n",
    "fname = \"Arial\" # font name\n",
    "\n",
    "# prepare the figure\n",
    "plt.figure(figsize=(32, 15), constrained_layout=True)\n",
    "sns.set_style(\"white\") \n",
    "plt.rcParams[\"font.family\"] = fname\n",
    "ax1 = plt.subplot2grid(shape=(3, 25), loc=(0, 0), rowspan=3, colspan=12)\n",
    "ax2 = plt.subplot2grid(shape=(3, 25), loc=(0, 13), rowspan=3, colspan=12)\n",
    "\n",
    "# heatmap - for the sample-by-sample comparison\n",
    "# define the axis ticks\n",
    "axis_labels = ['invalid','saccade','gaze','outlier']\n",
    "# plot the results\n",
    "sns.heatmap(confusion_matrix,\n",
    "            cmap=\"YlGnBu\",\n",
    "            annot=True, \n",
    "            annot_kws={\"fontsize\":ticksize,\"fontname\":fname},\n",
    "            fmt='g',\n",
    "            ax=ax1,\n",
    "            xticklabels=axis_labels, \n",
    "            yticklabels=axis_labels,\n",
    "            cbar=False\n",
    "           ) \n",
    "# adjust the axis labels\n",
    "ax1.set_ylabel(\"Hand-Labeled\", fontsize=labelsize, fontname=fname)\n",
    "ax1.set_xlabel(\"Algorithm\", fontsize=labelsize, fontname=fname)\n",
    "# set axis ticks + font\n",
    "for label in ax1.get_xticklabels(): # change tick font\n",
    "    label.set_fontproperties(fname)\n",
    "for label in ax1.get_yticklabels():\n",
    "    label.set_fontproperties(fname)\n",
    "ax1.yaxis.set_tick_params(labelsize=ticksize)  # change tick size\n",
    "ax1.xaxis.set_tick_params(labelsize=ticksize)\n",
    "\n",
    "\n",
    "# barplot - for the gaze onset accuracy\n",
    "# first, we multiply the frames by 11 to have the number in ms\n",
    "frame_to_ms = [x* 11 for x in counts_assigned.index.tolist()]\n",
    "# plot the results\n",
    "plt.bar(frame_to_ms,counts_assigned['nr shifts'], color=gaze_color_1, width=10)\n",
    "# define xticks\n",
    "plt.xticks([-110,-55,0,55,110])\n",
    "# set axis ticks + font\n",
    "for label in ax2.get_xticklabels(): # change tick font\n",
    "    label.set_fontproperties(fname)\n",
    "for label in ax2.get_yticklabels():\n",
    "    label.set_fontproperties(fname)\n",
    "ax2.yaxis.set_tick_params(labelsize=ticksize)  # change tick size\n",
    "ax2.xaxis.set_tick_params(labelsize=ticksize)\n",
    "ax2.set_xlabel(\"Temporal Offset (ms)\", fontsize=labelsize,fontname=fname)\n",
    "ax2.set_ylabel(\"Count\", fontsize=labelsize,fontname=fname)\n",
    "\n",
    "# set plot labels\n",
    "ax1.set_title(\"A\", fontsize=numbersize, fontweight=\"bold\",loc=\"left\", x=-0.08, y=1.05, pad=-30, fontname=fname)  \n",
    "ax2.set_title(\"B\", fontsize=numbersize, fontweight=\"bold\",loc=\"left\", x=-0.08, y=1.05, pad=-30, fontname=fname) \n",
    "plt.show()"
   ]
  }
 ],
 "metadata": {
  "kernelspec": {
   "display_name": "Python (wd_village)",
   "language": "python",
   "name": "wd_village"
  },
  "language_info": {
   "codemirror_mode": {
    "name": "ipython",
    "version": 3
   },
   "file_extension": ".py",
   "mimetype": "text/x-python",
   "name": "python",
   "nbconvert_exporter": "python",
   "pygments_lexer": "ipython3",
   "version": "3.10.10"
  }
 },
 "nbformat": 4,
 "nbformat_minor": 5
}
