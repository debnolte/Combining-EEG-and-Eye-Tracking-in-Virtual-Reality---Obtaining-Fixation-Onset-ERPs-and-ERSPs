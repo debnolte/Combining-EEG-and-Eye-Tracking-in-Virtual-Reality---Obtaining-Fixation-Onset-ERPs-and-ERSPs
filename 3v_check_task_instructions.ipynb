{
 "cells": [
  {
   "cell_type": "markdown",
   "id": "3af10dc0-a7db-4748-abec-1f550a00e53c",
   "metadata": {},
   "source": [
    "__Data saved:__\n",
    "-  __recordings_village_corr.csv__ --> remove participants leaving the main quare more than 10% of the total time"
   ]
  },
  {
   "cell_type": "markdown",
   "id": "feb90792-05aa-4f65-ad6d-beaa5fc31bae",
   "metadata": {},
   "source": [
    "# Check how often participants left the main square"
   ]
  },
  {
   "cell_type": "code",
   "execution_count": null,
   "id": "6c8da72d-37f2-4611-8b45-fda3fd2f3a6e",
   "metadata": {},
   "outputs": [],
   "source": [
    "import copy  # copy big/deep objects by value\n",
    "import datetime  # datetime operations\n",
    "import itertools  # operate with iterators\n",
    "import json  # read/write from/into json format\n",
    "import math\n",
    "import os  # OS operations (read/write files/folders)\n",
    "import warnings  # hide warnings\n",
    "\n",
    "# process parallelization\n",
    "from multiprocessing import Manager, Pool, RawArray, cpu_count\n",
    "\n",
    "import matplotlib.pyplot as plt  # mother of plots focr Python\n",
    "import numpy as np  # array/matrix operations (e.g. linear algebra)\n",
    "import pandas as pd  # operate with dataframes\n",
    "import pyxdf  # read XDF files (LSL streams recordings)\n",
    "import seaborn as sns  # matplotlib plotting nice with shortcuts\n",
    "from IPython.display import Markdown, display  # print nicely\n",
    "from matplotlib.pyplot import cm\n",
    "from pandas import DataFrame, to_datetime, to_timedelta\n",
    "from tqdm.notebook import tqdm  # mother of progressbars"
   ]
  },
  {
   "cell_type": "code",
   "execution_count": null,
   "id": "72e89947-7ffa-444e-98e7-f0e91180d2fa",
   "metadata": {},
   "outputs": [],
   "source": [
    "# raw and processed data paths\n",
    "PATH_RAW = \"./data/raw\"\n",
    "PATH_PROC = \"./data/processed\"\n",
    "\n",
    "# specify decimals format on pandas tables\n",
    "pd.options.display.float_format = \"{:.3f}\".format\n",
    "\n",
    "# progress bar customized format\n",
    "B_FORMAT = \"\"\"📄 {n_fmt} of {total_fmt} {desc} processed: {bar} \n",
    "            {percentage:3.0f}% ⏱️{elapsed} ⏳{remaining} ⚙️{rate_fmt}{postfix}\"\"\"\n",
    "\n",
    "CORES = cpu_count()  # number of cpu threads for multiprocessing\n",
    "print(f\"Total CPU threads: {CORES}\")"
   ]
  },
  {
   "cell_type": "code",
   "execution_count": null,
   "id": "b2222e99-fac2-42ec-9bdd-25c2f92c7241",
   "metadata": {},
   "outputs": [],
   "source": [
    "recordings = pd.read_csv(\"./recordings_village_corr.csv\", index_col=0)\n",
    "recordings"
   ]
  },
  {
   "cell_type": "markdown",
   "id": "b0482250-68b7-47b8-b7e8-5c699f21a343",
   "metadata": {},
   "source": [
    "__Get the amount of time participants leave the central square__"
   ]
  },
  {
   "cell_type": "markdown",
   "id": "78cdac1d-a750-4d01-ba6d-44be6178a3ce",
   "metadata": {},
   "source": [
    "The participants received the instruction to not leave the main square during the experiment. Surprisingly, a good amount of participtants, even after repeated reminders, validated this instruction. To correct for too bad behavior, we calculate the amount of samples and the percentage thereof during which the participants were leaving the main square. Participants with more then 10% of samples not located on the main square were excluded from further analysis."
   ]
  },
  {
   "cell_type": "code",
   "execution_count": null,
   "id": "d3652798-436b-4844-b957-22fcee8fac83",
   "metadata": {
    "tags": []
   },
   "outputs": [],
   "source": [
    "# participants ids\n",
    "ids = recordings.index.tolist()\n",
    "idd = ids[:]\n",
    "\n",
    "time_off_square = {}\n",
    "cols_os = [\"Total Time\", \"Off Square\", \"% Off Square\", \"Face Gazes\"]\n",
    "g_length = 0.250  # >250ms is a gaze (or 24 hits)\n",
    "for i, uid in enumerate(idd):\n",
    "    time_off_square[uid] = {}\n",
    "    # create the list of indicies:\n",
    "    f = open(f\"{PATH_PROC}/Timestamps_overall_{uid}.json\", \"r\")\n",
    "    times_overall = json.load(f)  # load file content as JSON\n",
    "    f.close()\n",
    "    beh_df = pd.read_csv(\n",
    "        f\"{PATH_PROC}/Behavior_new_{uid}.csv\", index_col=0, dtype=CUSTOM_DTYPES\n",
    "    )\n",
    "    hit_df = pd.read_csv(f\"{PATH_PROC}/HitEvents_new_{uid}.csv\")\n",
    "\n",
    "    # variables\n",
    "    time_off_square[uid][\"Total Time\"] = len(times_overall)\n",
    "    player_pos = np.array(\n",
    "        [beh_df[\"HToriginX\"], beh_df[\"HToriginZ\"]]\n",
    "    ).transpose()\n",
    "\n",
    "    gaze = hit_df[hit_df[\"length\"] > g_length]\n",
    "    face_cond = gaze[\"HON\"].str.contains(\"face\", regex=False, na=False)\n",
    "    face_fix = gaze[face_cond]\n",
    "    time_off_square[uid][\"Face Gazes\"] = face_fix.index.size\n",
    "\n",
    "    off_squ = 0\n",
    "    for i, t in enumerate(times_overall):\n",
    "        if (\n",
    "            # square coordinates defined by Unity\n",
    "            player_pos[i, 0] < 515\n",
    "            or player_pos[i, 0] > 631\n",
    "            or player_pos[i, 1] < 554\n",
    "            or player_pos[i, 1] > 620\n",
    "        ):  # strict square\n",
    "            off_squ += 1\n",
    "        elif player_pos[i, 0] < 605 and player_pos[i, 1] < 564:\n",
    "            off_squ += 1\n",
    "    time_off_square[uid][\"Off Square\"] = off_squ\n",
    "    time_off_square[uid][\"% Off Square\"] = round(\n",
    "        off_squ * 100 / len(times_overall), 3\n",
    "    )\n",
    "\n",
    "time_off_square = pd.DataFrame(time_off_square).transpose()\n",
    "time_off_square = time_off_square.reindex(\n",
    "    columns=cols_os\n",
    ")  # so they are ordered the correct way\n",
    "display(time_off_square.sort_values(by=[\"% Off Square\"]))\n",
    "time_off_square.to_csv(\"./time_off_square.csv\", index=True)\n",
    "\n",
    "# display(time_off_square)"
   ]
  },
  {
   "cell_type": "markdown",
   "id": "f8dc9337-37e5-43b1-9575-5789519b7b58",
   "metadata": {
    "tags": []
   },
   "source": [
    "__Exclude Recordings with more than 10% off Square --> but only run this once!__"
   ]
  },
  {
   "cell_type": "code",
   "execution_count": null,
   "id": "f5f5d0cc-58af-4dbd-8eac-402caf782993",
   "metadata": {
    "tags": []
   },
   "outputs": [],
   "source": [
    "# you can only run this once \n",
    "ts = time_off_square[time_off_square[\"% Off Square\"] > 10].index\n",
    "recordings = recordings.drop(ts)\n",
    "ids = recordings.index.tolist()\n",
    "recordings.to_csv(\"./recordings_village_corr.csv\", index=True)\n",
    "display(len(recordings))\n",
    "display(recordings)\n"
   ]
  },
  {
   "cell_type": "code",
   "execution_count": null,
   "id": "a4684e1b-792b-4af0-9f2b-d062bb33e2fd",
   "metadata": {},
   "outputs": [],
   "source": []
  }
 ],
 "metadata": {
  "kernelspec": {
   "display_name": "Python (wd_village)",
   "language": "python",
   "name": "wd_village"
  },
  "language_info": {
   "codemirror_mode": {
    "name": "ipython",
    "version": 3
   },
   "file_extension": ".py",
   "mimetype": "text/x-python",
   "name": "python",
   "nbconvert_exporter": "python",
   "pygments_lexer": "ipython3",
   "version": "3.10.10"
  }
 },
 "nbformat": 4,
 "nbformat_minor": 5
}
